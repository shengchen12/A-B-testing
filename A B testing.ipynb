{
 "cells": [
  {
   "cell_type": "markdown",
   "metadata": {},
   "source": [
    "# A/B Test - Translation "
   ]
  },
  {
   "cell_type": "markdown",
   "metadata": {},
   "source": [
    "A France-based users company have a much higher conversion rate in Franch then in any other Frenchspeaking country.\n",
    "The solution was to have one translation written by a local, aiming to improve the conversion rate However, based on the test the localized translation was doing worse!"
   ]
  },
  {
   "cell_type": "markdown",
   "metadata": {},
   "source": [
    "The structure of this notebook is as follows:\n",
    "    1. Load Dataset\n",
    "    2. Exploratory Data Analysis\n",
    "    3. Two-sample Z-test on entire dataset\n",
    "    4. Conversion rate by variables\n",
    "    5. Conversion rate by country"
   ]
  },
  {
   "cell_type": "code",
   "execution_count": 176,
   "metadata": {},
   "outputs": [],
   "source": [
    "import  warnings\n",
    "#warnings.simplefilter('ignore')\n",
    "\n",
    "import numpy as np\n",
    "import pandas as pd\n",
    "import seaborn as sns\n",
    "import matplotlib.pyplot as plt\n",
    "from scipy.stats import ttest_ind\n",
    "\n",
    "%matplotlib inline"
   ]
  },
  {
   "cell_type": "markdown",
   "metadata": {},
   "source": [
    "# Load Dataset"
   ]
  },
  {
   "cell_type": "code",
   "execution_count": 177,
   "metadata": {},
   "outputs": [
    {
     "data": {
      "text/html": [
       "<div>\n",
       "<style scoped>\n",
       "    .dataframe tbody tr th:only-of-type {\n",
       "        vertical-align: middle;\n",
       "    }\n",
       "\n",
       "    .dataframe tbody tr th {\n",
       "        vertical-align: top;\n",
       "    }\n",
       "\n",
       "    .dataframe thead th {\n",
       "        text-align: right;\n",
       "    }\n",
       "</style>\n",
       "<table border=\"1\" class=\"dataframe\">\n",
       "  <thead>\n",
       "    <tr style=\"text-align: right;\">\n",
       "      <th></th>\n",
       "      <th>user_id</th>\n",
       "      <th>date</th>\n",
       "      <th>source</th>\n",
       "      <th>device</th>\n",
       "      <th>browser_language</th>\n",
       "      <th>ads_channel</th>\n",
       "      <th>browser</th>\n",
       "      <th>conversion</th>\n",
       "      <th>test</th>\n",
       "    </tr>\n",
       "  </thead>\n",
       "  <tbody>\n",
       "    <tr>\n",
       "      <th>0</th>\n",
       "      <td>315281</td>\n",
       "      <td>2015-12-03</td>\n",
       "      <td>Direct</td>\n",
       "      <td>Web</td>\n",
       "      <td>FR</td>\n",
       "      <td>NaN</td>\n",
       "      <td>IE</td>\n",
       "      <td>1</td>\n",
       "      <td>0</td>\n",
       "    </tr>\n",
       "    <tr>\n",
       "      <th>1</th>\n",
       "      <td>497851</td>\n",
       "      <td>2015-12-04</td>\n",
       "      <td>Ads</td>\n",
       "      <td>Web</td>\n",
       "      <td>FR</td>\n",
       "      <td>Google</td>\n",
       "      <td>IE</td>\n",
       "      <td>0</td>\n",
       "      <td>1</td>\n",
       "    </tr>\n",
       "    <tr>\n",
       "      <th>2</th>\n",
       "      <td>848402</td>\n",
       "      <td>2015-12-04</td>\n",
       "      <td>Ads</td>\n",
       "      <td>Web</td>\n",
       "      <td>FR</td>\n",
       "      <td>Facebook</td>\n",
       "      <td>Chrome</td>\n",
       "      <td>0</td>\n",
       "      <td>0</td>\n",
       "    </tr>\n",
       "    <tr>\n",
       "      <th>3</th>\n",
       "      <td>290051</td>\n",
       "      <td>2015-12-03</td>\n",
       "      <td>Ads</td>\n",
       "      <td>Mobile</td>\n",
       "      <td>Other</td>\n",
       "      <td>Facebook</td>\n",
       "      <td>Android_App</td>\n",
       "      <td>0</td>\n",
       "      <td>1</td>\n",
       "    </tr>\n",
       "    <tr>\n",
       "      <th>4</th>\n",
       "      <td>548435</td>\n",
       "      <td>2015-11-30</td>\n",
       "      <td>Ads</td>\n",
       "      <td>Web</td>\n",
       "      <td>FR</td>\n",
       "      <td>Google</td>\n",
       "      <td>FireFox</td>\n",
       "      <td>0</td>\n",
       "      <td>1</td>\n",
       "    </tr>\n",
       "  </tbody>\n",
       "</table>\n",
       "</div>"
      ],
      "text/plain": [
       "   user_id       date  source  device browser_language ads_channel  \\\n",
       "0   315281 2015-12-03  Direct     Web               FR         NaN   \n",
       "1   497851 2015-12-04     Ads     Web               FR      Google   \n",
       "2   848402 2015-12-04     Ads     Web               FR    Facebook   \n",
       "3   290051 2015-12-03     Ads  Mobile            Other    Facebook   \n",
       "4   548435 2015-11-30     Ads     Web               FR      Google   \n",
       "\n",
       "       browser  conversion  test  \n",
       "0           IE           1     0  \n",
       "1           IE           0     1  \n",
       "2       Chrome           0     0  \n",
       "3  Android_App           0     1  \n",
       "4      FireFox           0     1  "
      ]
     },
     "execution_count": 177,
     "metadata": {},
     "output_type": "execute_result"
    }
   ],
   "source": [
    "test = pd.read_csv('test_table.csv', parse_dates=['date'])\n",
    "test.head()"
   ]
  },
  {
   "cell_type": "code",
   "execution_count": 179,
   "metadata": {},
   "outputs": [
    {
     "data": {
      "text/html": [
       "<div>\n",
       "<style scoped>\n",
       "    .dataframe tbody tr th:only-of-type {\n",
       "        vertical-align: middle;\n",
       "    }\n",
       "\n",
       "    .dataframe tbody tr th {\n",
       "        vertical-align: top;\n",
       "    }\n",
       "\n",
       "    .dataframe thead th {\n",
       "        text-align: right;\n",
       "    }\n",
       "</style>\n",
       "<table border=\"1\" class=\"dataframe\">\n",
       "  <thead>\n",
       "    <tr style=\"text-align: right;\">\n",
       "      <th></th>\n",
       "      <th>user_id</th>\n",
       "      <th>sex</th>\n",
       "      <th>age</th>\n",
       "      <th>country</th>\n",
       "    </tr>\n",
       "  </thead>\n",
       "  <tbody>\n",
       "    <tr>\n",
       "      <th>0</th>\n",
       "      <td>765821</td>\n",
       "      <td>M</td>\n",
       "      <td>20</td>\n",
       "      <td>Democratic Republic of the Congo</td>\n",
       "    </tr>\n",
       "    <tr>\n",
       "      <th>1</th>\n",
       "      <td>343561</td>\n",
       "      <td>F</td>\n",
       "      <td>27</td>\n",
       "      <td>Luxembourg</td>\n",
       "    </tr>\n",
       "    <tr>\n",
       "      <th>2</th>\n",
       "      <td>118744</td>\n",
       "      <td>M</td>\n",
       "      <td>23</td>\n",
       "      <td>Canada</td>\n",
       "    </tr>\n",
       "    <tr>\n",
       "      <th>3</th>\n",
       "      <td>987753</td>\n",
       "      <td>F</td>\n",
       "      <td>27</td>\n",
       "      <td>Switzerland</td>\n",
       "    </tr>\n",
       "    <tr>\n",
       "      <th>4</th>\n",
       "      <td>554597</td>\n",
       "      <td>F</td>\n",
       "      <td>20</td>\n",
       "      <td>France</td>\n",
       "    </tr>\n",
       "  </tbody>\n",
       "</table>\n",
       "</div>"
      ],
      "text/plain": [
       "   user_id sex  age                           country\n",
       "0   765821   M   20  Democratic Republic of the Congo\n",
       "1   343561   F   27                        Luxembourg\n",
       "2   118744   M   23                            Canada\n",
       "3   987753   F   27                       Switzerland\n",
       "4   554597   F   20                            France"
      ]
     },
     "execution_count": 179,
     "metadata": {},
     "output_type": "execute_result"
    }
   ],
   "source": [
    "user = pd.read_csv('user_table.csv')\n",
    "user.head()"
   ]
  },
  {
   "cell_type": "code",
   "execution_count": 180,
   "metadata": {},
   "outputs": [
    {
     "data": {
      "text/html": [
       "<div>\n",
       "<style scoped>\n",
       "    .dataframe tbody tr th:only-of-type {\n",
       "        vertical-align: middle;\n",
       "    }\n",
       "\n",
       "    .dataframe tbody tr th {\n",
       "        vertical-align: top;\n",
       "    }\n",
       "\n",
       "    .dataframe thead th {\n",
       "        text-align: right;\n",
       "    }\n",
       "</style>\n",
       "<table border=\"1\" class=\"dataframe\">\n",
       "  <thead>\n",
       "    <tr style=\"text-align: right;\">\n",
       "      <th></th>\n",
       "      <th>user_id</th>\n",
       "      <th>date</th>\n",
       "      <th>source</th>\n",
       "      <th>device</th>\n",
       "      <th>browser_language</th>\n",
       "      <th>ads_channel</th>\n",
       "      <th>browser</th>\n",
       "      <th>conversion</th>\n",
       "      <th>test</th>\n",
       "      <th>sex</th>\n",
       "      <th>age</th>\n",
       "      <th>country</th>\n",
       "    </tr>\n",
       "  </thead>\n",
       "  <tbody>\n",
       "    <tr>\n",
       "      <th>0</th>\n",
       "      <td>315281</td>\n",
       "      <td>2015-12-03</td>\n",
       "      <td>Direct</td>\n",
       "      <td>Web</td>\n",
       "      <td>FR</td>\n",
       "      <td>NaN</td>\n",
       "      <td>IE</td>\n",
       "      <td>1</td>\n",
       "      <td>0</td>\n",
       "      <td>M</td>\n",
       "      <td>32.0</td>\n",
       "      <td>France</td>\n",
       "    </tr>\n",
       "    <tr>\n",
       "      <th>1</th>\n",
       "      <td>497851</td>\n",
       "      <td>2015-12-04</td>\n",
       "      <td>Ads</td>\n",
       "      <td>Web</td>\n",
       "      <td>FR</td>\n",
       "      <td>Google</td>\n",
       "      <td>IE</td>\n",
       "      <td>0</td>\n",
       "      <td>1</td>\n",
       "      <td>M</td>\n",
       "      <td>21.0</td>\n",
       "      <td>Democratic Republic of the Congo</td>\n",
       "    </tr>\n",
       "    <tr>\n",
       "      <th>2</th>\n",
       "      <td>848402</td>\n",
       "      <td>2015-12-04</td>\n",
       "      <td>Ads</td>\n",
       "      <td>Web</td>\n",
       "      <td>FR</td>\n",
       "      <td>Facebook</td>\n",
       "      <td>Chrome</td>\n",
       "      <td>0</td>\n",
       "      <td>0</td>\n",
       "      <td>M</td>\n",
       "      <td>34.0</td>\n",
       "      <td>France</td>\n",
       "    </tr>\n",
       "    <tr>\n",
       "      <th>3</th>\n",
       "      <td>290051</td>\n",
       "      <td>2015-12-03</td>\n",
       "      <td>Ads</td>\n",
       "      <td>Mobile</td>\n",
       "      <td>Other</td>\n",
       "      <td>Facebook</td>\n",
       "      <td>Android_App</td>\n",
       "      <td>0</td>\n",
       "      <td>1</td>\n",
       "      <td>F</td>\n",
       "      <td>22.0</td>\n",
       "      <td>Democratic Republic of the Congo</td>\n",
       "    </tr>\n",
       "    <tr>\n",
       "      <th>4</th>\n",
       "      <td>548435</td>\n",
       "      <td>2015-11-30</td>\n",
       "      <td>Ads</td>\n",
       "      <td>Web</td>\n",
       "      <td>FR</td>\n",
       "      <td>Google</td>\n",
       "      <td>FireFox</td>\n",
       "      <td>0</td>\n",
       "      <td>1</td>\n",
       "      <td>M</td>\n",
       "      <td>19.0</td>\n",
       "      <td>Democratic Republic of the Congo</td>\n",
       "    </tr>\n",
       "  </tbody>\n",
       "</table>\n",
       "</div>"
      ],
      "text/plain": [
       "   user_id       date  source  device browser_language ads_channel  \\\n",
       "0   315281 2015-12-03  Direct     Web               FR         NaN   \n",
       "1   497851 2015-12-04     Ads     Web               FR      Google   \n",
       "2   848402 2015-12-04     Ads     Web               FR    Facebook   \n",
       "3   290051 2015-12-03     Ads  Mobile            Other    Facebook   \n",
       "4   548435 2015-11-30     Ads     Web               FR      Google   \n",
       "\n",
       "       browser  conversion  test sex   age                           country  \n",
       "0           IE           1     0   M  32.0                            France  \n",
       "1           IE           0     1   M  21.0  Democratic Republic of the Congo  \n",
       "2       Chrome           0     0   M  34.0                            France  \n",
       "3  Android_App           0     1   F  22.0  Democratic Republic of the Congo  \n",
       "4      FireFox           0     1   M  19.0  Democratic Republic of the Congo  "
      ]
     },
     "execution_count": 180,
     "metadata": {},
     "output_type": "execute_result"
    }
   ],
   "source": [
    "# Merge two tables\n",
    "data = pd.merge(left=test, right=user, how='left', on='user_id')\n",
    "data.head()"
   ]
  },
  {
   "cell_type": "markdown",
   "metadata": {},
   "source": [
    "# Exploratory Data Analysis"
   ]
  },
  {
   "cell_type": "code",
   "execution_count": 181,
   "metadata": {
    "scrolled": false
   },
   "outputs": [
    {
     "name": "stdout",
     "output_type": "stream",
     "text": [
      "<class 'pandas.core.frame.DataFrame'>\n",
      "RangeIndex: 453321 entries, 0 to 453320\n",
      "Data columns (total 9 columns):\n",
      "user_id             453321 non-null int64\n",
      "date                453321 non-null datetime64[ns]\n",
      "source              453321 non-null object\n",
      "device              453321 non-null object\n",
      "browser_language    453321 non-null object\n",
      "ads_channel         181877 non-null object\n",
      "browser             453321 non-null object\n",
      "conversion          453321 non-null int64\n",
      "test                453321 non-null int64\n",
      "dtypes: datetime64[ns](1), int64(3), object(5)\n",
      "memory usage: 31.1+ MB\n"
     ]
    }
   ],
   "source": [
    "test.info()"
   ]
  },
  {
   "cell_type": "code",
   "execution_count": 182,
   "metadata": {},
   "outputs": [
    {
     "data": {
      "text/html": [
       "<div>\n",
       "<style scoped>\n",
       "    .dataframe tbody tr th:only-of-type {\n",
       "        vertical-align: middle;\n",
       "    }\n",
       "\n",
       "    .dataframe tbody tr th {\n",
       "        vertical-align: top;\n",
       "    }\n",
       "\n",
       "    .dataframe thead th {\n",
       "        text-align: right;\n",
       "    }\n",
       "</style>\n",
       "<table border=\"1\" class=\"dataframe\">\n",
       "  <thead>\n",
       "    <tr style=\"text-align: right;\">\n",
       "      <th></th>\n",
       "      <th>user_id</th>\n",
       "      <th>conversion</th>\n",
       "      <th>test</th>\n",
       "    </tr>\n",
       "  </thead>\n",
       "  <tbody>\n",
       "    <tr>\n",
       "      <th>count</th>\n",
       "      <td>453321.000000</td>\n",
       "      <td>453321.000000</td>\n",
       "      <td>453321.000000</td>\n",
       "    </tr>\n",
       "    <tr>\n",
       "      <th>mean</th>\n",
       "      <td>499937.514728</td>\n",
       "      <td>0.049579</td>\n",
       "      <td>0.476446</td>\n",
       "    </tr>\n",
       "    <tr>\n",
       "      <th>std</th>\n",
       "      <td>288665.193436</td>\n",
       "      <td>0.217073</td>\n",
       "      <td>0.499445</td>\n",
       "    </tr>\n",
       "    <tr>\n",
       "      <th>min</th>\n",
       "      <td>1.000000</td>\n",
       "      <td>0.000000</td>\n",
       "      <td>0.000000</td>\n",
       "    </tr>\n",
       "    <tr>\n",
       "      <th>25%</th>\n",
       "      <td>249816.000000</td>\n",
       "      <td>0.000000</td>\n",
       "      <td>0.000000</td>\n",
       "    </tr>\n",
       "    <tr>\n",
       "      <th>50%</th>\n",
       "      <td>500019.000000</td>\n",
       "      <td>0.000000</td>\n",
       "      <td>0.000000</td>\n",
       "    </tr>\n",
       "    <tr>\n",
       "      <th>75%</th>\n",
       "      <td>749522.000000</td>\n",
       "      <td>0.000000</td>\n",
       "      <td>1.000000</td>\n",
       "    </tr>\n",
       "    <tr>\n",
       "      <th>max</th>\n",
       "      <td>1000000.000000</td>\n",
       "      <td>1.000000</td>\n",
       "      <td>1.000000</td>\n",
       "    </tr>\n",
       "  </tbody>\n",
       "</table>\n",
       "</div>"
      ],
      "text/plain": [
       "              user_id     conversion           test\n",
       "count   453321.000000  453321.000000  453321.000000\n",
       "mean    499937.514728       0.049579       0.476446\n",
       "std     288665.193436       0.217073       0.499445\n",
       "min          1.000000       0.000000       0.000000\n",
       "25%     249816.000000       0.000000       0.000000\n",
       "50%     500019.000000       0.000000       0.000000\n",
       "75%     749522.000000       0.000000       1.000000\n",
       "max    1000000.000000       1.000000       1.000000"
      ]
     },
     "execution_count": 182,
     "metadata": {},
     "output_type": "execute_result"
    }
   ],
   "source": [
    "test.describe()"
   ]
  },
  {
   "cell_type": "code",
   "execution_count": 183,
   "metadata": {},
   "outputs": [
    {
     "name": "stdout",
     "output_type": "stream",
     "text": [
      "<class 'pandas.core.frame.DataFrame'>\n",
      "RangeIndex: 452867 entries, 0 to 452866\n",
      "Data columns (total 4 columns):\n",
      "user_id    452867 non-null int64\n",
      "sex        452867 non-null object\n",
      "age        452867 non-null int64\n",
      "country    452867 non-null object\n",
      "dtypes: int64(2), object(2)\n",
      "memory usage: 13.8+ MB\n"
     ]
    }
   ],
   "source": [
    "user.info()"
   ]
  },
  {
   "cell_type": "code",
   "execution_count": 184,
   "metadata": {},
   "outputs": [
    {
     "data": {
      "text/html": [
       "<div>\n",
       "<style scoped>\n",
       "    .dataframe tbody tr th:only-of-type {\n",
       "        vertical-align: middle;\n",
       "    }\n",
       "\n",
       "    .dataframe tbody tr th {\n",
       "        vertical-align: top;\n",
       "    }\n",
       "\n",
       "    .dataframe thead th {\n",
       "        text-align: right;\n",
       "    }\n",
       "</style>\n",
       "<table border=\"1\" class=\"dataframe\">\n",
       "  <thead>\n",
       "    <tr style=\"text-align: right;\">\n",
       "      <th></th>\n",
       "      <th>user_id</th>\n",
       "      <th>age</th>\n",
       "    </tr>\n",
       "  </thead>\n",
       "  <tbody>\n",
       "    <tr>\n",
       "      <th>count</th>\n",
       "      <td>452867.000000</td>\n",
       "      <td>452867.000000</td>\n",
       "    </tr>\n",
       "    <tr>\n",
       "      <th>mean</th>\n",
       "      <td>499944.805166</td>\n",
       "      <td>27.130740</td>\n",
       "    </tr>\n",
       "    <tr>\n",
       "      <th>std</th>\n",
       "      <td>288676.264784</td>\n",
       "      <td>6.776678</td>\n",
       "    </tr>\n",
       "    <tr>\n",
       "      <th>min</th>\n",
       "      <td>1.000000</td>\n",
       "      <td>18.000000</td>\n",
       "    </tr>\n",
       "    <tr>\n",
       "      <th>25%</th>\n",
       "      <td>249819.000000</td>\n",
       "      <td>22.000000</td>\n",
       "    </tr>\n",
       "    <tr>\n",
       "      <th>50%</th>\n",
       "      <td>500019.000000</td>\n",
       "      <td>26.000000</td>\n",
       "    </tr>\n",
       "    <tr>\n",
       "      <th>75%</th>\n",
       "      <td>749543.000000</td>\n",
       "      <td>31.000000</td>\n",
       "    </tr>\n",
       "    <tr>\n",
       "      <th>max</th>\n",
       "      <td>1000000.000000</td>\n",
       "      <td>70.000000</td>\n",
       "    </tr>\n",
       "  </tbody>\n",
       "</table>\n",
       "</div>"
      ],
      "text/plain": [
       "              user_id            age\n",
       "count   452867.000000  452867.000000\n",
       "mean    499944.805166      27.130740\n",
       "std     288676.264784       6.776678\n",
       "min          1.000000      18.000000\n",
       "25%     249819.000000      22.000000\n",
       "50%     500019.000000      26.000000\n",
       "75%     749543.000000      31.000000\n",
       "max    1000000.000000      70.000000"
      ]
     },
     "execution_count": 184,
     "metadata": {},
     "output_type": "execute_result"
    }
   ],
   "source": [
    "user.describe()"
   ]
  },
  {
   "cell_type": "code",
   "execution_count": 185,
   "metadata": {
    "scrolled": false
   },
   "outputs": [
    {
     "name": "stdout",
     "output_type": "stream",
     "text": [
      "<class 'pandas.core.frame.DataFrame'>\n",
      "Int64Index: 453321 entries, 0 to 453320\n",
      "Data columns (total 12 columns):\n",
      "user_id             453321 non-null int64\n",
      "date                453321 non-null datetime64[ns]\n",
      "source              453321 non-null object\n",
      "device              453321 non-null object\n",
      "browser_language    453321 non-null object\n",
      "ads_channel         181877 non-null object\n",
      "browser             453321 non-null object\n",
      "conversion          453321 non-null int64\n",
      "test                453321 non-null int64\n",
      "sex                 452867 non-null object\n",
      "age                 452867 non-null float64\n",
      "country             452867 non-null object\n",
      "dtypes: datetime64[ns](1), float64(1), int64(3), object(7)\n",
      "memory usage: 45.0+ MB\n"
     ]
    }
   ],
   "source": [
    "data.info()"
   ]
  },
  {
   "cell_type": "code",
   "execution_count": 186,
   "metadata": {},
   "outputs": [
    {
     "data": {
      "image/png": "[encoded data removed]",
      "text/plain": [
       "<Figure size 2160x720 with 1 Axes>"
      ]
     },
     "metadata": {
      "needs_background": "light"
     },
     "output_type": "display_data"
    }
   ],
   "source": [
    "# First check that france converts much better than the rest of LatAm countries\n",
    "groupby_country = data[data['test'] == 0][['conversion', 'country']].groupby('country').mean()\n",
    "groupby_country = groupby_country.reset_index()\n",
    "groupby_country = groupby_country.sort_values('conversion', ascending=False)\n",
    "\n",
    "# Visualization\n",
    "fig, ax = plt.subplots(figsize=(30,10))\n",
    "sns.barplot(x='country', y='conversion', data=groupby_country, ax=ax)\n",
    "plt.show()"
   ]
  },
  {
   "cell_type": "code",
   "execution_count": 187,
   "metadata": {
    "scrolled": true
   },
   "outputs": [
    {
     "data": {
      "image/png": "[encoded data removed]",
      "text/plain": [
       "<Figure size 2520x720 with 1 Axes>"
      ]
     },
     "metadata": {
      "needs_background": "light"
     },
     "output_type": "display_data"
    }
   ],
   "source": [
    "# Visualization\n",
    "fig, ax = plt.subplots(figsize=(35, 10))\n",
    "sns.barplot(x='country', y='conversion', hue='test', data=data, ax=ax)\n",
    "plt.show()"
   ]
  },
  {
   "cell_type": "markdown",
   "metadata": {},
   "source": [
    "Eventually, let's remove France and samples that have missing country values from the dataset because:\n",
    "\n",
    "Nothing has changed for France\n",
    "Number of missing values is small, so they won't affect statistical tests much\n"
   ]
  },
  {
   "cell_type": "code",
   "execution_count": 188,
   "metadata": {},
   "outputs": [
    {
     "data": {
      "text/plain": [
       "(401539, 12)"
      ]
     },
     "execution_count": 188,
     "metadata": {},
     "output_type": "execute_result"
    }
   ],
   "source": [
    "data = data[(data.country != 'France') & (data.country != 'missing')]\n",
    "data.shape"
   ]
  },
  {
   "cell_type": "markdown",
   "metadata": {},
   "source": [
    "# Two-sample Z-test on entire dataset"
   ]
  },
  {
   "cell_type": "markdown",
   "metadata": {},
   "source": [
    "When testing whether the conversion rate is statistically different between the experiment and the control groups, we usually apply a two-sample proportion test. Options include Chi-square test, Z-test, etc. When the sample size is large, these tests lead to the same statistical result, i.e. P-value. I chose to use Z-test here because our sample size is sufficiently large.\n",
    "\n",
    "The team's assumption is:\n",
    "\n",
    "H0: Conversion rate_experiment group = Conversion rate_control group\n",
    "\n",
    "H1: Conversion rate_experiment group < Conversion rate_control group\n",
    "\n",
    "First, let's subset the data into an experiment group and a control group"
   ]
  },
  {
   "cell_type": "code",
   "execution_count": 189,
   "metadata": {},
   "outputs": [],
   "source": [
    "experiment_group = data[(data.test == 1)]\n",
    "control_group = data[(data.test == 0)]"
   ]
  },
  {
   "cell_type": "markdown",
   "metadata": {},
   "source": [
    "We can see from below that initial comparison of the conversion rates between the experiment and the control groups indicates that the non-localized translation was doing better."
   ]
  },
  {
   "cell_type": "code",
   "execution_count": 190,
   "metadata": {},
   "outputs": [
    {
     "data": {
      "text/plain": [
       "0.04833042316066309"
      ]
     },
     "execution_count": 190,
     "metadata": {},
     "output_type": "execute_result"
    }
   ],
   "source": [
    "control_group.conversion.mean()"
   ]
  },
  {
   "cell_type": "code",
   "execution_count": 191,
   "metadata": {},
   "outputs": [
    {
     "data": {
      "text/plain": [
       "0.043424713982118966"
      ]
     },
     "execution_count": 191,
     "metadata": {},
     "output_type": "execute_result"
    }
   ],
   "source": [
    "experiment_group.conversion.mean()"
   ]
  },
  {
   "cell_type": "code",
   "execution_count": 192,
   "metadata": {},
   "outputs": [
    {
     "name": "stdout",
     "output_type": "stream",
     "text": [
      "Z-score is: -7.422021422012666\n",
      "P-value is: 5.767307540762427e-14\n"
     ]
    }
   ],
   "source": [
    "import statsmodels.api as sm\n",
    "def two_sample_z_test(df, alternative='two-sided'):\n",
    "    \"\"\"\n",
    "    This function returns the P-value from a two-sample Z-test\n",
    "    \"\"\"\n",
    "    test_df = df[df.test == 1]\n",
    "    control_df = df[df.test == 0]\n",
    "\n",
    "    test_convert = test_df.conversion.sum()\n",
    "    control_convert = control_df.conversion.sum()\n",
    "\n",
    "    test_n = len(test_df.conversion)\n",
    "    control_n = len(control_df.conversion)\n",
    "    z, p_value = sm.stats.proportions_ztest([test_convert, control_convert], \n",
    "                                            [test_n, control_n],\n",
    "                                           alternative=alternative)\n",
    "    return(z, p_value)\n",
    "\n",
    "z, pvalue = two_sample_z_test(data, alternative='smaller')\n",
    "print('Z-score is: {}'.format(z))\n",
    "print('P-value is: {}'.format(pvalue))"
   ]
  },
  {
   "cell_type": "markdown",
   "metadata": {},
   "source": [
    "From the test result we see that what the team observed was true, the conversion rate of the test group is indeed less than that of the control group."
   ]
  },
  {
   "cell_type": "markdown",
   "metadata": {},
   "source": [
    "#  Conversion rate by variable"
   ]
  },
  {
   "cell_type": "markdown",
   "metadata": {},
   "source": [
    "Is there any confounding variable?\n",
    "\n",
    "A confounding variable is an outside influence\n",
    "that changes the effect of an independent variable\n",
    "on the dependent variable"
   ]
  },
  {
   "cell_type": "code",
   "execution_count": 203,
   "metadata": {},
   "outputs": [
    {
     "data": {
      "image/png": "[encoded data removed]",
      "text/plain": [
       "<Figure size 1296x432 with 2 Axes>"
      ]
     },
     "metadata": {
      "needs_background": "light"
     },
     "output_type": "display_data"
    }
   ],
   "source": [
    "# Visualization of different dates\n",
    "fig, ax = plt.subplots(nrows=1, ncols=2, figsize=(18, 6))\n",
    "sns.countplot(x='date', hue='test', data=data, ax=ax[0])\n",
    "ax[0].set_title('Count Plot of Date', fontsize=16)\n",
    "\n",
    "sns.barplot(x='date', y='conversion', hue='test', data=data, ax=ax[1])\n",
    "ax[1].set_title('Mean Conversion Rate per Date', fontsize=16)\n",
    "plt.tight_layout()\n",
    "plt.show()"
   ]
  },
  {
   "cell_type": "code",
   "execution_count": 204,
   "metadata": {},
   "outputs": [
    {
     "data": {
      "image/png": "[encoded data removed]",
      "text/plain": [
       "<Figure size 1296x432 with 2 Axes>"
      ]
     },
     "metadata": {
      "needs_background": "light"
     },
     "output_type": "display_data"
    }
   ],
   "source": [
    "# Visualization of different source\n",
    "fig, ax = plt.subplots(nrows=1, ncols=2, figsize=(18, 6))\n",
    "sns.countplot(x='source', hue='test', data=data, ax=ax[0])\n",
    "ax[0].set_title('Count Plot of Source', fontsize=16)\n",
    "\n",
    "sns.barplot(x='source', y='conversion', hue='test', data=data, ax=ax[1])\n",
    "ax[1].set_title('Mean Conversion Rate per Source', fontsize=16)\n",
    "plt.tight_layout()\n",
    "plt.show()"
   ]
  },
  {
   "cell_type": "code",
   "execution_count": 205,
   "metadata": {},
   "outputs": [
    {
     "data": {
      "image/png": "[encoded data removed]",
      "text/plain": [
       "<Figure size 1296x432 with 2 Axes>"
      ]
     },
     "metadata": {
      "needs_background": "light"
     },
     "output_type": "display_data"
    }
   ],
   "source": [
    "# Visualization of different devices\n",
    "fig, ax = plt.subplots(nrows=1, ncols=2, figsize=(18, 6))\n",
    "sns.countplot(x='device', hue='test', data=data, ax=ax[0])\n",
    "ax[0].set_title('Count Plot of Device', fontsize=16)\n",
    "\n",
    "sns.barplot(x='device', y='conversion', hue='test', data=data, ax=ax[1])\n",
    "ax[1].set_title('Mean Conversion Rate per Device', fontsize=16)\n",
    "plt.tight_layout()\n",
    "plt.show()"
   ]
  },
  {
   "cell_type": "code",
   "execution_count": 206,
   "metadata": {},
   "outputs": [
    {
     "data": {
      "image/png": "[encoded data removed]",
      "text/plain": [
       "<Figure size 1296x432 with 2 Axes>"
      ]
     },
     "metadata": {
      "needs_background": "light"
     },
     "output_type": "display_data"
    }
   ],
   "source": [
    "# Visualization of different devices\n",
    "fig, ax = plt.subplots(nrows=1, ncols=2, figsize=(18, 6))\n",
    "sns.countplot(x='browser_language', hue='test', data=data, ax=ax[0])\n",
    "ax[0].set_title('Count Plot of Browser Language', fontsize=16)\n",
    "\n",
    "sns.barplot(x='browser_language', y='conversion', hue='test', data=data, ax=ax[1])\n",
    "ax[1].set_title('Mean Conversion Rate per Broswer Language', fontsize=16)\n",
    "plt.tight_layout()\n",
    "plt.show()"
   ]
  },
  {
   "cell_type": "code",
   "execution_count": 207,
   "metadata": {},
   "outputs": [
    {
     "data": {
      "image/png": "[encoded data removed]",
      "text/plain": [
       "<Figure size 1296x432 with 2 Axes>"
      ]
     },
     "metadata": {
      "needs_background": "light"
     },
     "output_type": "display_data"
    }
   ],
   "source": [
    "# Visualization of different devices\n",
    "fig, ax = plt.subplots(nrows=1, ncols=2, figsize=(18, 6))\n",
    "sns.countplot(x='ads_channel', hue='test', data=data, ax=ax[0])\n",
    "ax[0].set_title('Count Plot of Ads Channel', fontsize=16)\n",
    "\n",
    "sns.barplot(x='ads_channel', y='conversion', hue='test', data=data, ax=ax[1])\n",
    "ax[1].set_title('Mean Conversion Rate per Ads Channel', fontsize=16)\n",
    "plt.tight_layout()\n",
    "plt.show()"
   ]
  },
  {
   "cell_type": "code",
   "execution_count": 208,
   "metadata": {},
   "outputs": [
    {
     "data": {
      "image/png": "[encoded data removed]",
      "text/plain": [
       "<Figure size 1296x432 with 2 Axes>"
      ]
     },
     "metadata": {
      "needs_background": "light"
     },
     "output_type": "display_data"
    }
   ],
   "source": [
    "# Visualization of different devices\n",
    "fig, ax = plt.subplots(nrows=1, ncols=2, figsize=(18, 6))\n",
    "sns.countplot(x='browser', hue='test', data=data, ax=ax[0])\n",
    "ax[0].set_title('Count Plot of Browser', fontsize=16)\n",
    "\n",
    "sns.barplot(x='browser', y='conversion', hue='test', data=data, ax=ax[1])\n",
    "ax[1].set_title('Mean Conversion Rate per Browser', fontsize=16)\n",
    "plt.tight_layout()\n",
    "plt.show()"
   ]
  },
  {
   "cell_type": "code",
   "execution_count": 209,
   "metadata": {},
   "outputs": [
    {
     "data": {
      "image/png": "[encoded data removed]",
      "text/plain": [
       "<Figure size 1296x432 with 2 Axes>"
      ]
     },
     "metadata": {
      "needs_background": "light"
     },
     "output_type": "display_data"
    }
   ],
   "source": [
    "# Visualization of different devices\n",
    "fig, ax = plt.subplots(nrows=1, ncols=2, figsize=(18, 6))\n",
    "sns.countplot(x='sex', hue='test', data=data, ax=ax[0])\n",
    "ax[0].set_title('Count Plot of Sex', fontsize=16)\n",
    "\n",
    "sns.barplot(x='sex', y='conversion', hue='test', data=data, ax=ax[1])\n",
    "ax[1].set_title('Mean Conversion Rate per Sex', fontsize=16)\n",
    "plt.tight_layout()\n",
    "plt.show()"
   ]
  },
  {
   "cell_type": "code",
   "execution_count": 210,
   "metadata": {
    "scrolled": true
   },
   "outputs": [
    {
     "data": {
      "image/png": "[encoded data removed]",
      "text/plain": [
       "<Figure size 1296x432 with 2 Axes>"
      ]
     },
     "metadata": {
      "needs_background": "light"
     },
     "output_type": "display_data"
    }
   ],
   "source": [
    "# Visualization of different devices\n",
    "fig, ax = plt.subplots(nrows=1, ncols=2, figsize=(18, 6))\n",
    "sns.countplot(x='age', hue='test', data=data, ax=ax[0])\n",
    "ax[0].set_title('Count Plot of Age', fontsize=16)\n",
    "\n",
    "sns.barplot(x='age', y='conversion', hue='test', data=data, ax=ax[1])\n",
    "ax[1].set_title('Mean Conversion Rate per Age', fontsize=16)\n",
    "plt.tight_layout()\n",
    "plt.show()"
   ]
  },
  {
   "cell_type": "code",
   "execution_count": 211,
   "metadata": {},
   "outputs": [
    {
     "data": {
      "image/png": "[encoded data removed]",
      "text/plain": [
       "<Figure size 1296x432 with 2 Axes>"
      ]
     },
     "metadata": {
      "needs_background": "light"
     },
     "output_type": "display_data"
    }
   ],
   "source": [
    "# Visualization of different devices\n",
    "fig, ax = plt.subplots(nrows=1, ncols=2, figsize=(18, 6))\n",
    "sns.countplot(x='country', hue='test', data=data, ax=ax[0])\n",
    "ax[0].set_title('Count Plot of Country', fontsize=16)\n",
    "\n",
    "sns.barplot(x='country', y='conversion', hue='test', data=data, ax=ax[1])\n",
    "ax[1].set_title('Mean Conversion Rate per Country', fontsize=16)\n",
    "plt.tight_layout()\n",
    "plt.show()"
   ]
  },
  {
   "cell_type": "markdown",
   "metadata": {},
   "source": [
    "We have identified that country may be a confounding factor that influences the coversion rate. In next section, let's dive deeper into this variable."
   ]
  },
  {
   "cell_type": "markdown",
   "metadata": {},
   "source": [
    "## Conversion rate by country\n",
    "\n",
    "In this section, let's look at conversion rate by country and check how many countries have a higher conversion rate in the experiment group than the control.\n",
    "\n",
    "From the table below, we see that several countries have a higher conversion rate in the experiment group."
   ]
  },
  {
   "cell_type": "code",
   "execution_count": 124,
   "metadata": {},
   "outputs": [
    {
     "data": {
      "text/html": [
       "<div>\n",
       "<style scoped>\n",
       "    .dataframe tbody tr th:only-of-type {\n",
       "        vertical-align: middle;\n",
       "    }\n",
       "\n",
       "    .dataframe tbody tr th {\n",
       "        vertical-align: top;\n",
       "    }\n",
       "\n",
       "    .dataframe thead th {\n",
       "        text-align: right;\n",
       "    }\n",
       "</style>\n",
       "<table border=\"1\" class=\"dataframe\">\n",
       "  <thead>\n",
       "    <tr style=\"text-align: right;\">\n",
       "      <th></th>\n",
       "      <th>country</th>\n",
       "      <th>test</th>\n",
       "      <th>conversion</th>\n",
       "    </tr>\n",
       "  </thead>\n",
       "  <tbody>\n",
       "    <tr>\n",
       "      <th>0</th>\n",
       "      <td>Algeria</td>\n",
       "      <td>0</td>\n",
       "      <td>0.015071</td>\n",
       "    </tr>\n",
       "    <tr>\n",
       "      <th>1</th>\n",
       "      <td>Algeria</td>\n",
       "      <td>1</td>\n",
       "      <td>0.013725</td>\n",
       "    </tr>\n",
       "    <tr>\n",
       "      <th>2</th>\n",
       "      <td>Andorra</td>\n",
       "      <td>0</td>\n",
       "      <td>0.048493</td>\n",
       "    </tr>\n",
       "    <tr>\n",
       "      <th>3</th>\n",
       "      <td>Andorra</td>\n",
       "      <td>1</td>\n",
       "      <td>0.049229</td>\n",
       "    </tr>\n",
       "    <tr>\n",
       "      <th>4</th>\n",
       "      <td>Belgium</td>\n",
       "      <td>0</td>\n",
       "      <td>0.049154</td>\n",
       "    </tr>\n",
       "    <tr>\n",
       "      <th>5</th>\n",
       "      <td>Belgium</td>\n",
       "      <td>1</td>\n",
       "      <td>0.048988</td>\n",
       "    </tr>\n",
       "    <tr>\n",
       "      <th>6</th>\n",
       "      <td>Cameroon</td>\n",
       "      <td>0</td>\n",
       "      <td>0.049914</td>\n",
       "    </tr>\n",
       "    <tr>\n",
       "      <th>7</th>\n",
       "      <td>Cameroon</td>\n",
       "      <td>1</td>\n",
       "      <td>0.050604</td>\n",
       "    </tr>\n",
       "    <tr>\n",
       "      <th>8</th>\n",
       "      <td>Canada</td>\n",
       "      <td>0</td>\n",
       "      <td>0.052089</td>\n",
       "    </tr>\n",
       "    <tr>\n",
       "      <th>9</th>\n",
       "      <td>Canada</td>\n",
       "      <td>1</td>\n",
       "      <td>0.050571</td>\n",
       "    </tr>\n",
       "    <tr>\n",
       "      <th>10</th>\n",
       "      <td>Democratic Republic of the Congo</td>\n",
       "      <td>0</td>\n",
       "      <td>0.049495</td>\n",
       "    </tr>\n",
       "    <tr>\n",
       "      <th>11</th>\n",
       "      <td>Democratic Republic of the Congo</td>\n",
       "      <td>1</td>\n",
       "      <td>0.051186</td>\n",
       "    </tr>\n",
       "    <tr>\n",
       "      <th>12</th>\n",
       "      <td>Gabon</td>\n",
       "      <td>0</td>\n",
       "      <td>0.052256</td>\n",
       "    </tr>\n",
       "    <tr>\n",
       "      <th>13</th>\n",
       "      <td>Gabon</td>\n",
       "      <td>1</td>\n",
       "      <td>0.054738</td>\n",
       "    </tr>\n",
       "    <tr>\n",
       "      <th>14</th>\n",
       "      <td>Haiti</td>\n",
       "      <td>0</td>\n",
       "      <td>0.049369</td>\n",
       "    </tr>\n",
       "    <tr>\n",
       "      <th>15</th>\n",
       "      <td>Haiti</td>\n",
       "      <td>1</td>\n",
       "      <td>0.047901</td>\n",
       "    </tr>\n",
       "    <tr>\n",
       "      <th>16</th>\n",
       "      <td>Luxembourg</td>\n",
       "      <td>0</td>\n",
       "      <td>0.052647</td>\n",
       "    </tr>\n",
       "    <tr>\n",
       "      <th>17</th>\n",
       "      <td>Luxembourg</td>\n",
       "      <td>1</td>\n",
       "      <td>0.054177</td>\n",
       "    </tr>\n",
       "    <tr>\n",
       "      <th>18</th>\n",
       "      <td>Mauritius</td>\n",
       "      <td>0</td>\n",
       "      <td>0.012048</td>\n",
       "    </tr>\n",
       "    <tr>\n",
       "      <th>19</th>\n",
       "      <td>Mauritius</td>\n",
       "      <td>1</td>\n",
       "      <td>0.012907</td>\n",
       "    </tr>\n",
       "    <tr>\n",
       "      <th>20</th>\n",
       "      <td>Morocco</td>\n",
       "      <td>0</td>\n",
       "      <td>0.048107</td>\n",
       "    </tr>\n",
       "    <tr>\n",
       "      <th>21</th>\n",
       "      <td>Morocco</td>\n",
       "      <td>1</td>\n",
       "      <td>0.051295</td>\n",
       "    </tr>\n",
       "    <tr>\n",
       "      <th>22</th>\n",
       "      <td>Republic of the Congo</td>\n",
       "      <td>0</td>\n",
       "      <td>0.053554</td>\n",
       "    </tr>\n",
       "    <tr>\n",
       "      <th>23</th>\n",
       "      <td>Republic of the Congo</td>\n",
       "      <td>1</td>\n",
       "      <td>0.047947</td>\n",
       "    </tr>\n",
       "    <tr>\n",
       "      <th>24</th>\n",
       "      <td>Senegal</td>\n",
       "      <td>0</td>\n",
       "      <td>0.050906</td>\n",
       "    </tr>\n",
       "    <tr>\n",
       "      <th>25</th>\n",
       "      <td>Senegal</td>\n",
       "      <td>1</td>\n",
       "      <td>0.047540</td>\n",
       "    </tr>\n",
       "    <tr>\n",
       "      <th>26</th>\n",
       "      <td>Seychelles</td>\n",
       "      <td>0</td>\n",
       "      <td>0.046796</td>\n",
       "    </tr>\n",
       "    <tr>\n",
       "      <th>27</th>\n",
       "      <td>Seychelles</td>\n",
       "      <td>1</td>\n",
       "      <td>0.049370</td>\n",
       "    </tr>\n",
       "    <tr>\n",
       "      <th>28</th>\n",
       "      <td>Spain</td>\n",
       "      <td>0</td>\n",
       "      <td>0.079719</td>\n",
       "    </tr>\n",
       "    <tr>\n",
       "      <th>29</th>\n",
       "      <td>Switzerland</td>\n",
       "      <td>0</td>\n",
       "      <td>0.050344</td>\n",
       "    </tr>\n",
       "    <tr>\n",
       "      <th>30</th>\n",
       "      <td>Switzerland</td>\n",
       "      <td>1</td>\n",
       "      <td>0.048978</td>\n",
       "    </tr>\n",
       "    <tr>\n",
       "      <th>31</th>\n",
       "      <td>Tunisia</td>\n",
       "      <td>0</td>\n",
       "      <td>0.050643</td>\n",
       "    </tr>\n",
       "    <tr>\n",
       "      <th>32</th>\n",
       "      <td>Tunisia</td>\n",
       "      <td>1</td>\n",
       "      <td>0.048647</td>\n",
       "    </tr>\n",
       "  </tbody>\n",
       "</table>\n",
       "</div>"
      ],
      "text/plain": [
       "                             country  test  conversion\n",
       "0                            Algeria     0    0.015071\n",
       "1                            Algeria     1    0.013725\n",
       "2                            Andorra     0    0.048493\n",
       "3                            Andorra     1    0.049229\n",
       "4                            Belgium     0    0.049154\n",
       "5                            Belgium     1    0.048988\n",
       "6                           Cameroon     0    0.049914\n",
       "7                           Cameroon     1    0.050604\n",
       "8                             Canada     0    0.052089\n",
       "9                             Canada     1    0.050571\n",
       "10  Democratic Republic of the Congo     0    0.049495\n",
       "11  Democratic Republic of the Congo     1    0.051186\n",
       "12                             Gabon     0    0.052256\n",
       "13                             Gabon     1    0.054738\n",
       "14                             Haiti     0    0.049369\n",
       "15                             Haiti     1    0.047901\n",
       "16                        Luxembourg     0    0.052647\n",
       "17                        Luxembourg     1    0.054177\n",
       "18                         Mauritius     0    0.012048\n",
       "19                         Mauritius     1    0.012907\n",
       "20                           Morocco     0    0.048107\n",
       "21                           Morocco     1    0.051295\n",
       "22             Republic of the Congo     0    0.053554\n",
       "23             Republic of the Congo     1    0.047947\n",
       "24                           Senegal     0    0.050906\n",
       "25                           Senegal     1    0.047540\n",
       "26                        Seychelles     0    0.046796\n",
       "27                        Seychelles     1    0.049370\n",
       "28                             Spain     0    0.079719\n",
       "29                       Switzerland     0    0.050344\n",
       "30                       Switzerland     1    0.048978\n",
       "31                           Tunisia     0    0.050643\n",
       "32                           Tunisia     1    0.048647"
      ]
     },
     "execution_count": 124,
     "metadata": {},
     "output_type": "execute_result"
    }
   ],
   "source": [
    "conversion_by_country = data.groupby(['country', 'test']).conversion.mean().reset_index()\n",
    "conversion_by_country"
   ]
  },
  {
   "cell_type": "code",
   "execution_count": 125,
   "metadata": {},
   "outputs": [
    {
     "data": {
      "text/plain": [
       "country                           test\n",
       "Algeria                           0        9356\n",
       "                                  1       37377\n",
       "Andorra                           0        3650\n",
       "                                  1        3697\n",
       "Belgium                           0        8036\n",
       "                                  1        7859\n",
       "Cameroon                          0       16869\n",
       "                                  1       16797\n",
       "Canada                            0       27088\n",
       "                                  1       26972\n",
       "Democratic Republic of the Congo  0       64209\n",
       "                                  1       64275\n",
       "Gabon                             0        2660\n",
       "                                  1        2649\n",
       "Haiti                             0        5550\n",
       "                                  1        5574\n",
       "Luxembourg                        0        3419\n",
       "                                  1        3304\n",
       "Mauritius                         0         415\n",
       "                                  1        3719\n",
       "Morocco                           0        9853\n",
       "                                  1        9884\n",
       "Republic of the Congo             0        4108\n",
       "                                  1        4067\n",
       "Senegal                           0        4361\n",
       "                                  1        4207\n",
       "Seychelles                        0        1966\n",
       "                                  1        1985\n",
       "Spain                             0       51782\n",
       "Switzerland                       0       16149\n",
       "                                  1       15905\n",
       "Tunisia                           0        7622\n",
       "                                  1        7503\n",
       "Name: conversion, dtype: int64"
      ]
     },
     "execution_count": 125,
     "metadata": {},
     "output_type": "execute_result"
    }
   ],
   "source": [
    "data.groupby(['country', 'test']).conversion.count()"
   ]
  },
  {
   "cell_type": "code",
   "execution_count": 127,
   "metadata": {},
   "outputs": [
    {
     "data": {
      "text/plain": [
       "country                           test\n",
       "Algeria                           0        141\n",
       "                                  1        513\n",
       "Andorra                           0        177\n",
       "                                  1        182\n",
       "Belgium                           0        395\n",
       "                                  1        385\n",
       "Cameroon                          0        842\n",
       "                                  1        850\n",
       "Canada                            0       1411\n",
       "                                  1       1364\n",
       "Democratic Republic of the Congo  0       3178\n",
       "                                  1       3290\n",
       "Gabon                             0        139\n",
       "                                  1        145\n",
       "Haiti                             0        274\n",
       "                                  1        267\n",
       "Luxembourg                        0        180\n",
       "                                  1        179\n",
       "Mauritius                         0          5\n",
       "                                  1         48\n",
       "Morocco                           0        474\n",
       "                                  1        507\n",
       "Republic of the Congo             0        220\n",
       "                                  1        195\n",
       "Senegal                           0        222\n",
       "                                  1        200\n",
       "Seychelles                        0         92\n",
       "                                  1         98\n",
       "Spain                             0       4128\n",
       "Switzerland                       0        813\n",
       "                                  1        779\n",
       "Tunisia                           0        386\n",
       "                                  1        365\n",
       "Name: conversion, dtype: int64"
      ]
     },
     "execution_count": 127,
     "metadata": {},
     "output_type": "execute_result"
    }
   ],
   "source": [
    "data.groupby(['country', 'test']).conversion.sum()"
   ]
  },
  {
   "cell_type": "markdown",
   "metadata": {},
   "source": [
    "Overall, we found that 27% of countries have higher conversion rates in the experiment group than the control group. But are these differences statistically significant?"
   ]
  },
  {
   "cell_type": "code",
   "execution_count": 134,
   "metadata": {},
   "outputs": [
    {
     "name": "stdout",
     "output_type": "stream",
     "text": [
      "Proportion of countries that have a higher conversion rate in the experiment group: 0.2727272727272727\n"
     ]
    }
   ],
   "source": [
    "tol = 0\n",
    "for i in range(1, len(conversion_by_country.conversion),2):\n",
    "        if conversion_by_country.conversion[i] > conversion_by_country.conversion[i - 1]:\n",
    "            tol += 1\n",
    "print('Proportion of countries that have a higher conversion rate in the experiment group: {}'.\\\n",
    "      format(tol/len(conversion_by_country.conversion)))"
   ]
  },
  {
   "cell_type": "markdown",
   "metadata": {},
   "source": [
    "Next, let's use a Z-test to check whether the difference of conversion rates are statistically significant. We have the following hypotheses: \n",
    "\n",
    "H0: Conversion rate experiment group = Conversion rate control group\n",
    "\n",
    "H1: Conversion rate experiment group} < Conversion rate control group\n",
    "\n",
    "When performing a two-sided Z-test for each country where, we found that all p-values are above the 0.05 significance level, therefore, we cannot reject the null hypothesis mentioned above.\n",
    "\n",
    "\n",
    "\n"
   ]
  },
  {
   "cell_type": "code",
   "execution_count": 173,
   "metadata": {},
   "outputs": [
    {
     "data": {
      "text/html": [
       "<div>\n",
       "<style scoped>\n",
       "    .dataframe tbody tr th:only-of-type {\n",
       "        vertical-align: middle;\n",
       "    }\n",
       "\n",
       "    .dataframe tbody tr th {\n",
       "        vertical-align: top;\n",
       "    }\n",
       "\n",
       "    .dataframe thead th {\n",
       "        text-align: right;\n",
       "    }\n",
       "</style>\n",
       "<table border=\"1\" class=\"dataframe\">\n",
       "  <thead>\n",
       "    <tr style=\"text-align: right;\">\n",
       "      <th></th>\n",
       "      <th>country</th>\n",
       "      <th>pvalue</th>\n",
       "    </tr>\n",
       "  </thead>\n",
       "  <tbody>\n",
       "    <tr>\n",
       "      <th>0</th>\n",
       "      <td>Algeria</td>\n",
       "      <td>0.160878</td>\n",
       "    </tr>\n",
       "    <tr>\n",
       "      <th>1</th>\n",
       "      <td>Andorra</td>\n",
       "      <td>0.558159</td>\n",
       "    </tr>\n",
       "    <tr>\n",
       "      <th>2</th>\n",
       "      <td>Belgium</td>\n",
       "      <td>0.480755</td>\n",
       "    </tr>\n",
       "    <tr>\n",
       "      <th>3</th>\n",
       "      <td>Cameroon</td>\n",
       "      <td>0.614029</td>\n",
       "    </tr>\n",
       "    <tr>\n",
       "      <th>4</th>\n",
       "      <td>Canada</td>\n",
       "      <td>0.211862</td>\n",
       "    </tr>\n",
       "    <tr>\n",
       "      <th>5</th>\n",
       "      <td>Democratic Republic of the Congo</td>\n",
       "      <td>0.917228</td>\n",
       "    </tr>\n",
       "    <tr>\n",
       "      <th>6</th>\n",
       "      <td>Gabon</td>\n",
       "      <td>0.656102</td>\n",
       "    </tr>\n",
       "    <tr>\n",
       "      <th>7</th>\n",
       "      <td>Haiti</td>\n",
       "      <td>0.359424</td>\n",
       "    </tr>\n",
       "    <tr>\n",
       "      <th>8</th>\n",
       "      <td>Luxembourg</td>\n",
       "      <td>0.609844</td>\n",
       "    </tr>\n",
       "    <tr>\n",
       "      <th>9</th>\n",
       "      <td>Mauritius</td>\n",
       "      <td>0.558611</td>\n",
       "    </tr>\n",
       "    <tr>\n",
       "      <th>10</th>\n",
       "      <td>Morocco</td>\n",
       "      <td>0.848577</td>\n",
       "    </tr>\n",
       "    <tr>\n",
       "      <th>11</th>\n",
       "      <td>Republic of the Congo</td>\n",
       "      <td>0.124099</td>\n",
       "    </tr>\n",
       "    <tr>\n",
       "      <th>12</th>\n",
       "      <td>Senegal</td>\n",
       "      <td>0.235832</td>\n",
       "    </tr>\n",
       "    <tr>\n",
       "      <th>13</th>\n",
       "      <td>Seychelles</td>\n",
       "      <td>0.647363</td>\n",
       "    </tr>\n",
       "    <tr>\n",
       "      <th>14</th>\n",
       "      <td>Switzerland</td>\n",
       "      <td>0.286863</td>\n",
       "    </tr>\n",
       "    <tr>\n",
       "      <th>15</th>\n",
       "      <td>Tunisia</td>\n",
       "      <td>0.286068</td>\n",
       "    </tr>\n",
       "  </tbody>\n",
       "</table>\n",
       "</div>"
      ],
      "text/plain": [
       "                             country    pvalue\n",
       "0                            Algeria  0.160878\n",
       "1                            Andorra  0.558159\n",
       "2                            Belgium  0.480755\n",
       "3                           Cameroon  0.614029\n",
       "4                             Canada  0.211862\n",
       "5   Democratic Republic of the Congo  0.917228\n",
       "6                              Gabon  0.656102\n",
       "7                              Haiti  0.359424\n",
       "8                         Luxembourg  0.609844\n",
       "9                          Mauritius  0.558611\n",
       "10                           Morocco  0.848577\n",
       "11             Republic of the Congo  0.124099\n",
       "12                           Senegal  0.235832\n",
       "13                        Seychelles  0.647363\n",
       "14                       Switzerland  0.286863\n",
       "15                           Tunisia  0.286068"
      ]
     },
     "execution_count": 173,
     "metadata": {},
     "output_type": "execute_result"
    }
   ],
   "source": [
    "country_df = data.groupby(['country'])\n",
    "pvalue_df = country_df.apply(lambda x: two_sample_z_test(x, 'smaller')[1]).reset_index()\n",
    "pvalue_df.columns = [u'country', 'pvalue']\n",
    "pvalue_df"
   ]
  },
  {
   "cell_type": "markdown",
   "metadata": {},
   "source": [
    "## Conclusion: Localized translation didn't worsen the conversion rate."
   ]
  },
  {
   "cell_type": "markdown",
   "metadata": {},
   "source": [
    "Ariel Negrin"
   ]
  },
  {
   "cell_type": "markdown",
   "metadata": {},
   "source": [
    " "
   ]
  },
  {
   "cell_type": "markdown",
   "metadata": {},
   "source": [
    " "
   ]
  },
  {
   "cell_type": "markdown",
   "metadata": {},
   "source": [
    " "
   ]
  },
  {
   "cell_type": "markdown",
   "metadata": {},
   "source": [
    " "
   ]
  },
  {
   "cell_type": "markdown",
   "metadata": {},
   "source": [
    " "
   ]
  },
  {
   "cell_type": "markdown",
   "metadata": {},
   "source": [
    " "
   ]
  }
 ],
 "metadata": {
  "kernelspec": {
   "display_name": "Python 3",
   "language": "python",
   "name": "python3"
  },
  "language_info": {
   "codemirror_mode": {
    "name": "ipython",
    "version": 3
   },
   "file_extension": ".py",
   "mimetype": "text/x-python",
   "name": "python",
   "nbconvert_exporter": "python",
   "pygments_lexer": "ipython3",
   "version": "3.6.6"
  }
 },
 "nbformat": 4,
 "nbformat_minor": 2
}
